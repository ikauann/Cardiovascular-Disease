{
 "cells": [
  {
   "cell_type": "markdown",
   "id": "78888622",
   "metadata": {},
   "source": [
    "# 0.0. IMPORTS"
   ]
  },
  {
   "cell_type": "code",
   "execution_count": 2,
   "id": "ec50ff27",
   "metadata": {},
   "outputs": [],
   "source": [
    "import pandas as pd\n",
    "import numpy as np\n",
    "\n",
    "import seaborn as sns\n",
    "import matplotlib.pyplot as plt\n",
    "import matplotlib"
   ]
  },
  {
   "cell_type": "markdown",
   "id": "20b27728",
   "metadata": {},
   "source": [
    "## 0.1. Loading Data"
   ]
  },
  {
   "cell_type": "code",
   "execution_count": 4,
   "id": "0b243905",
   "metadata": {},
   "outputs": [],
   "source": [
    "df = pd.read_csv('../data/cardio_train.csv',sep=';')"
   ]
  },
  {
   "cell_type": "markdown",
   "id": "90f35443",
   "metadata": {},
   "source": [
    "## 0.2. Helper Fuctions"
   ]
  },
  {
   "cell_type": "code",
   "execution_count": 9,
   "id": "89de34da",
   "metadata": {},
   "outputs": [
    {
     "name": "stdout",
     "output_type": "stream",
     "text": [
      "%pylab is deprecated, use %matplotlib inline and import the required libraries.\n",
      "Populating the interactive namespace from numpy and matplotlib\n"
     ]
    }
   ],
   "source": [
    "def jupyter_settings():\n",
    "    %matplotlib inline\n",
    "    %pylab inline\n",
    "    \n",
    "    plt.style.use( 'bmh' )\n",
    "    plt.rcParams['figure.figsize'] = [25, 12]\n",
    "    plt.rcParams['font.size'] = 24\n",
    "    \n",
    "    sns.set()\n",
    "jupyter_settings()"
   ]
  },
  {
   "cell_type": "markdown",
   "id": "eed888c8",
   "metadata": {},
   "source": [
    "# 1.0. DATA DESCRIPTION"
   ]
  },
  {
   "cell_type": "code",
   "execution_count": 10,
   "id": "b0d48424",
   "metadata": {},
   "outputs": [],
   "source": [
    "df1 = df.copy()"
   ]
  },
  {
   "cell_type": "markdown",
   "id": "18892200",
   "metadata": {},
   "source": [
    "## 1.1. Data Dimensions"
   ]
  },
  {
   "cell_type": "code",
   "execution_count": 11,
   "id": "2aa6678f",
   "metadata": {},
   "outputs": [
    {
     "name": "stdout",
     "output_type": "stream",
     "text": [
      "number of rows: 70000\n",
      "number of columns: 13\n"
     ]
    }
   ],
   "source": [
    "print(f'number of rows: {df1.shape[0]}')\n",
    "print(f'number of columns: {df1.shape[1]}')"
   ]
  },
  {
   "cell_type": "markdown",
   "id": "5b2d544a",
   "metadata": {},
   "source": [
    "## 1.2. Data Types"
   ]
  },
  {
   "cell_type": "code",
   "execution_count": 12,
   "id": "4517a3f4",
   "metadata": {},
   "outputs": [
    {
     "data": {
      "text/plain": [
       "id               int64\n",
       "age              int64\n",
       "gender           int64\n",
       "height           int64\n",
       "weight         float64\n",
       "ap_hi            int64\n",
       "ap_lo            int64\n",
       "cholesterol      int64\n",
       "gluc             int64\n",
       "smoke            int64\n",
       "alco             int64\n",
       "active           int64\n",
       "cardio           int64\n",
       "dtype: object"
      ]
     },
     "execution_count": 12,
     "metadata": {},
     "output_type": "execute_result"
    }
   ],
   "source": [
    "df1.dtypes"
   ]
  },
  {
   "cell_type": "markdown",
   "id": "c70d9a8a",
   "metadata": {},
   "source": [
    "## 1.3. Check NA"
   ]
  },
  {
   "cell_type": "code",
   "execution_count": 13,
   "id": "bc12a248",
   "metadata": {},
   "outputs": [
    {
     "data": {
      "text/plain": [
       "id             0\n",
       "age            0\n",
       "gender         0\n",
       "height         0\n",
       "weight         0\n",
       "ap_hi          0\n",
       "ap_lo          0\n",
       "cholesterol    0\n",
       "gluc           0\n",
       "smoke          0\n",
       "alco           0\n",
       "active         0\n",
       "cardio         0\n",
       "dtype: int64"
      ]
     },
     "execution_count": 13,
     "metadata": {},
     "output_type": "execute_result"
    }
   ],
   "source": [
    "df1.isnull().sum()"
   ]
  },
  {
   "cell_type": "markdown",
   "id": "4f825f15",
   "metadata": {},
   "source": [
    "## 1.4. Change Age"
   ]
  },
  {
   "cell_type": "code",
   "execution_count": 14,
   "id": "30f55a08",
   "metadata": {},
   "outputs": [],
   "source": [
    "df1['age'] = df1['age'].apply(lambda x: round(x / 365))\n",
    "df1['weight'] = df1['weight'].apply(lambda x: round(x))"
   ]
  },
  {
   "cell_type": "markdown",
   "id": "8be40763",
   "metadata": {},
   "source": [
    "# 2.0. DESCRIPTIVE ANALYSIS"
   ]
  },
  {
   "cell_type": "code",
   "execution_count": 15,
   "id": "118280ba",
   "metadata": {},
   "outputs": [],
   "source": [
    "df2 = df1.copy()"
   ]
  },
  {
   "cell_type": "markdown",
   "id": "5db083e6",
   "metadata": {},
   "source": [
    "## 2.1. Numerical"
   ]
  },
  {
   "cell_type": "code",
   "execution_count": 16,
   "id": "687f4787",
   "metadata": {},
   "outputs": [
    {
     "data": {
      "text/html": [
       "<div>\n",
       "<style scoped>\n",
       "    .dataframe tbody tr th:only-of-type {\n",
       "        vertical-align: middle;\n",
       "    }\n",
       "\n",
       "    .dataframe tbody tr th {\n",
       "        vertical-align: top;\n",
       "    }\n",
       "\n",
       "    .dataframe thead th {\n",
       "        text-align: right;\n",
       "    }\n",
       "</style>\n",
       "<table border=\"1\" class=\"dataframe\">\n",
       "  <thead>\n",
       "    <tr style=\"text-align: right;\">\n",
       "      <th></th>\n",
       "      <th>min</th>\n",
       "      <th>max</th>\n",
       "      <th>range</th>\n",
       "      <th>mean</th>\n",
       "      <th>median</th>\n",
       "      <th>std</th>\n",
       "      <th>skew</th>\n",
       "      <th>kurtosis</th>\n",
       "    </tr>\n",
       "  </thead>\n",
       "  <tbody>\n",
       "    <tr>\n",
       "      <th>id</th>\n",
       "      <td>0</td>\n",
       "      <td>99999</td>\n",
       "      <td>99999</td>\n",
       "      <td>49972.419900</td>\n",
       "      <td>50001.5</td>\n",
       "      <td>28851.096242</td>\n",
       "      <td>-0.001278</td>\n",
       "      <td>-1.198374</td>\n",
       "    </tr>\n",
       "    <tr>\n",
       "      <th>age</th>\n",
       "      <td>30</td>\n",
       "      <td>65</td>\n",
       "      <td>35</td>\n",
       "      <td>53.338686</td>\n",
       "      <td>54.0</td>\n",
       "      <td>6.765246</td>\n",
       "      <td>-0.306444</td>\n",
       "      <td>-0.821815</td>\n",
       "    </tr>\n",
       "    <tr>\n",
       "      <th>gender</th>\n",
       "      <td>1</td>\n",
       "      <td>2</td>\n",
       "      <td>1</td>\n",
       "      <td>1.349571</td>\n",
       "      <td>1.0</td>\n",
       "      <td>0.476835</td>\n",
       "      <td>0.630960</td>\n",
       "      <td>-1.601935</td>\n",
       "    </tr>\n",
       "    <tr>\n",
       "      <th>height</th>\n",
       "      <td>55</td>\n",
       "      <td>250</td>\n",
       "      <td>195</td>\n",
       "      <td>164.359229</td>\n",
       "      <td>165.0</td>\n",
       "      <td>8.210068</td>\n",
       "      <td>-0.642187</td>\n",
       "      <td>7.943653</td>\n",
       "    </tr>\n",
       "    <tr>\n",
       "      <th>weight</th>\n",
       "      <td>10</td>\n",
       "      <td>200</td>\n",
       "      <td>190</td>\n",
       "      <td>74.205543</td>\n",
       "      <td>72.0</td>\n",
       "      <td>14.395726</td>\n",
       "      <td>1.012070</td>\n",
       "      <td>2.586848</td>\n",
       "    </tr>\n",
       "    <tr>\n",
       "      <th>ap_hi</th>\n",
       "      <td>-150</td>\n",
       "      <td>16020</td>\n",
       "      <td>16170</td>\n",
       "      <td>128.817286</td>\n",
       "      <td>120.0</td>\n",
       "      <td>154.010319</td>\n",
       "      <td>85.296214</td>\n",
       "      <td>7580.074738</td>\n",
       "    </tr>\n",
       "    <tr>\n",
       "      <th>ap_lo</th>\n",
       "      <td>-70</td>\n",
       "      <td>11000</td>\n",
       "      <td>11070</td>\n",
       "      <td>96.630414</td>\n",
       "      <td>80.0</td>\n",
       "      <td>188.471184</td>\n",
       "      <td>32.114083</td>\n",
       "      <td>1425.914585</td>\n",
       "    </tr>\n",
       "    <tr>\n",
       "      <th>cholesterol</th>\n",
       "      <td>1</td>\n",
       "      <td>3</td>\n",
       "      <td>2</td>\n",
       "      <td>1.366871</td>\n",
       "      <td>1.0</td>\n",
       "      <td>0.680245</td>\n",
       "      <td>1.587123</td>\n",
       "      <td>0.993901</td>\n",
       "    </tr>\n",
       "    <tr>\n",
       "      <th>gluc</th>\n",
       "      <td>1</td>\n",
       "      <td>3</td>\n",
       "      <td>2</td>\n",
       "      <td>1.226457</td>\n",
       "      <td>1.0</td>\n",
       "      <td>0.572266</td>\n",
       "      <td>2.397462</td>\n",
       "      <td>4.294377</td>\n",
       "    </tr>\n",
       "    <tr>\n",
       "      <th>smoke</th>\n",
       "      <td>0</td>\n",
       "      <td>1</td>\n",
       "      <td>1</td>\n",
       "      <td>0.088129</td>\n",
       "      <td>0.0</td>\n",
       "      <td>0.283482</td>\n",
       "      <td>2.905867</td>\n",
       "      <td>6.444250</td>\n",
       "    </tr>\n",
       "    <tr>\n",
       "      <th>alco</th>\n",
       "      <td>0</td>\n",
       "      <td>1</td>\n",
       "      <td>1</td>\n",
       "      <td>0.053771</td>\n",
       "      <td>0.0</td>\n",
       "      <td>0.225566</td>\n",
       "      <td>3.956607</td>\n",
       "      <td>13.655125</td>\n",
       "    </tr>\n",
       "    <tr>\n",
       "      <th>active</th>\n",
       "      <td>0</td>\n",
       "      <td>1</td>\n",
       "      <td>1</td>\n",
       "      <td>0.803729</td>\n",
       "      <td>1.0</td>\n",
       "      <td>0.397176</td>\n",
       "      <td>-1.529473</td>\n",
       "      <td>0.339296</td>\n",
       "    </tr>\n",
       "    <tr>\n",
       "      <th>cardio</th>\n",
       "      <td>0</td>\n",
       "      <td>1</td>\n",
       "      <td>1</td>\n",
       "      <td>0.499700</td>\n",
       "      <td>0.0</td>\n",
       "      <td>0.500000</td>\n",
       "      <td>0.001200</td>\n",
       "      <td>-2.000056</td>\n",
       "    </tr>\n",
       "  </tbody>\n",
       "</table>\n",
       "</div>"
      ],
      "text/plain": [
       "             min    max  range          mean   median           std  \\\n",
       "id             0  99999  99999  49972.419900  50001.5  28851.096242   \n",
       "age           30     65     35     53.338686     54.0      6.765246   \n",
       "gender         1      2      1      1.349571      1.0      0.476835   \n",
       "height        55    250    195    164.359229    165.0      8.210068   \n",
       "weight        10    200    190     74.205543     72.0     14.395726   \n",
       "ap_hi       -150  16020  16170    128.817286    120.0    154.010319   \n",
       "ap_lo        -70  11000  11070     96.630414     80.0    188.471184   \n",
       "cholesterol    1      3      2      1.366871      1.0      0.680245   \n",
       "gluc           1      3      2      1.226457      1.0      0.572266   \n",
       "smoke          0      1      1      0.088129      0.0      0.283482   \n",
       "alco           0      1      1      0.053771      0.0      0.225566   \n",
       "active         0      1      1      0.803729      1.0      0.397176   \n",
       "cardio         0      1      1      0.499700      0.0      0.500000   \n",
       "\n",
       "                  skew     kurtosis  \n",
       "id           -0.001278    -1.198374  \n",
       "age          -0.306444    -0.821815  \n",
       "gender        0.630960    -1.601935  \n",
       "height       -0.642187     7.943653  \n",
       "weight        1.012070     2.586848  \n",
       "ap_hi        85.296214  7580.074738  \n",
       "ap_lo        32.114083  1425.914585  \n",
       "cholesterol   1.587123     0.993901  \n",
       "gluc          2.397462     4.294377  \n",
       "smoke         2.905867     6.444250  \n",
       "alco          3.956607    13.655125  \n",
       "active       -1.529473     0.339296  \n",
       "cardio        0.001200    -2.000056  "
      ]
     },
     "execution_count": 16,
     "metadata": {},
     "output_type": "execute_result"
    }
   ],
   "source": [
    "da = pd.DataFrame({\n",
    "\n",
    "    'min': df2.apply(lambda x: x.min()), \n",
    "    'max': df2.apply(lambda x: x.max()),\n",
    "    'range': df2.apply(lambda x: x.max() - x.min()),\n",
    "\n",
    "    'mean': df2.apply(lambda x: x.mean()),\n",
    "    'median': df2.apply(lambda x: x.median()),\n",
    "    'std': df2.apply(lambda x: np.std(x)),\n",
    "\n",
    "    'skew': df2.apply(lambda x: x.skew()),\n",
    "    'kurtosis': df2.apply(lambda x: x.kurtosis())\n",
    "})\n",
    "\n",
    "da #1 female - 2 male"
   ]
  },
  {
   "cell_type": "markdown",
   "id": "f8064804",
   "metadata": {},
   "source": [
    "# 3.0. FEATURE ENGINEERING"
   ]
  },
  {
   "cell_type": "code",
   "execution_count": 25,
   "metadata": {},
   "outputs": [],
   "source": [
    "df3 = df2.copy()"
   ]
  },
  {
   "cell_type": "code",
   "execution_count": 26,
   "id": "3ab59cf2",
   "metadata": {},
   "outputs": [],
   "source": [
    "df3['imc'] = df3.apply(lambda x: x['weight'] / (x['height'] * x['height']), axis=1).astype(str)\n",
    "df3['imc'] = df3['imc'].apply(lambda x: x[4:6]).astype(int)\n",
    "\n",
    "df3['classificacao_imc'] = df3['imc'].apply(lambda x: 'abaixo_do_peso' if x <= 18 else\n",
    "         'peso_normal' if x >= 19 and x <= 25 else \n",
    "         'sobrepeso' if x >= 26 and x <= 30 else\n",
    "         'obesidade_grau_1 ' if x >= 31 and x <= 35 else\n",
    "         'obesidade_grau_2'  if x >= 32 and x <= 40 else\n",
    "         'obesidade_grau_3' if x >= 33 and x <= 40 else\n",
    "         'Obesidade_grau_4'\n",
    "         )"
   ]
  },
  {
   "cell_type": "markdown",
   "id": "c45ee9ba",
   "metadata": {},
   "source": [
    "# 4.0. DATA ANALYSIS"
   ]
  },
  {
   "cell_type": "code",
   "execution_count": 28,
   "id": "c9f92cee",
   "metadata": {},
   "outputs": [],
   "source": [
    "df4 = df3.copy()"
   ]
  },
  {
   "cell_type": "markdown",
   "id": "e08aa172",
   "metadata": {},
   "source": [
    "## 4.1. LIST HYPOTHESIS"
   ]
  },
  {
   "cell_type": "markdown",
   "id": "4802f8bd",
   "metadata": {},
   "source": [
    "- Pessoas que fumam tem mais doenças cardiovasculares."
   ]
  },
  {
   "cell_type": "markdown",
   "id": "0fa63474",
   "metadata": {},
   "source": [
    "- Pessoas que não praticam atividade fisica tem mais propenças doenças cardiovasculares.\n"
   ]
  },
  {
   "cell_type": "markdown",
   "id": "28fe0570",
   "metadata": {},
   "source": [
    "- Pessoas de até 30 anos são os que tem menos doenças cardiovasculares."
   ]
  },
  {
   "cell_type": "markdown",
   "id": "608698b5",
   "metadata": {},
   "source": [
    "- Pessoas acima do peso tem mais doenças cardiovasculares."
   ]
  },
  {
   "cell_type": "markdown",
   "id": "ca21c5b3",
   "metadata": {},
   "source": [
    "### 4.1.0. Validate Hypothesis"
   ]
  },
  {
   "cell_type": "markdown",
   "id": "05f2ff10",
   "metadata": {},
   "source": [
    "#### Pessoas que fumam tem mais doenças cardiovasculares.\n"
   ]
  },
  {
   "cell_type": "code",
   "execution_count": 18,
   "id": "b1ae24a6",
   "metadata": {},
   "outputs": [
    {
     "data": {
      "text/html": [
       "<div>\n",
       "<style scoped>\n",
       "    .dataframe tbody tr th:only-of-type {\n",
       "        vertical-align: middle;\n",
       "    }\n",
       "\n",
       "    .dataframe tbody tr th {\n",
       "        vertical-align: top;\n",
       "    }\n",
       "\n",
       "    .dataframe thead th {\n",
       "        text-align: right;\n",
       "    }\n",
       "</style>\n",
       "<table border=\"1\" class=\"dataframe\">\n",
       "  <thead>\n",
       "    <tr style=\"text-align: right;\">\n",
       "      <th></th>\n",
       "      <th>smoke</th>\n",
       "      <th>cardio</th>\n",
       "    </tr>\n",
       "  </thead>\n",
       "  <tbody>\n",
       "    <tr>\n",
       "      <th>0</th>\n",
       "      <td>0</td>\n",
       "      <td>32050</td>\n",
       "    </tr>\n",
       "    <tr>\n",
       "      <th>1</th>\n",
       "      <td>1</td>\n",
       "      <td>2929</td>\n",
       "    </tr>\n",
       "  </tbody>\n",
       "</table>\n",
       "</div>"
      ],
      "text/plain": [
       "   smoke  cardio\n",
       "0      0   32050\n",
       "1      1    2929"
      ]
     },
     "execution_count": 18,
     "metadata": {},
     "output_type": "execute_result"
    }
   ],
   "source": [
    "aux = df4[['smoke', 'cardio']].groupby('smoke').sum().reset_index()\n",
    "aux"
   ]
  },
  {
   "cell_type": "markdown",
   "id": "0fa63474",
   "metadata": {},
   "source": [
    "#### Pessoas que não praticam atividade fisica tem mais doenças cardiovasculares.\n"
   ]
  },
  {
   "cell_type": "code",
   "execution_count": 19,
   "id": "eb9bbf14",
   "metadata": {},
   "outputs": [
    {
     "data": {
      "text/html": [
       "<div>\n",
       "<style scoped>\n",
       "    .dataframe tbody tr th:only-of-type {\n",
       "        vertical-align: middle;\n",
       "    }\n",
       "\n",
       "    .dataframe tbody tr th {\n",
       "        vertical-align: top;\n",
       "    }\n",
       "\n",
       "    .dataframe thead th {\n",
       "        text-align: right;\n",
       "    }\n",
       "</style>\n",
       "<table border=\"1\" class=\"dataframe\">\n",
       "  <thead>\n",
       "    <tr style=\"text-align: right;\">\n",
       "      <th></th>\n",
       "      <th>active</th>\n",
       "      <th>cardio</th>\n",
       "    </tr>\n",
       "  </thead>\n",
       "  <tbody>\n",
       "    <tr>\n",
       "      <th>0</th>\n",
       "      <td>0</td>\n",
       "      <td>7361</td>\n",
       "    </tr>\n",
       "    <tr>\n",
       "      <th>1</th>\n",
       "      <td>1</td>\n",
       "      <td>27618</td>\n",
       "    </tr>\n",
       "  </tbody>\n",
       "</table>\n",
       "</div>"
      ],
      "text/plain": [
       "   active  cardio\n",
       "0       0    7361\n",
       "1       1   27618"
      ]
     },
     "execution_count": 19,
     "metadata": {},
     "output_type": "execute_result"
    }
   ],
   "source": [
    "aux = df4[['active', 'cardio']].groupby('active').sum().reset_index()\n",
    "aux"
   ]
  },
  {
   "cell_type": "markdown",
   "id": "28fe0570",
   "metadata": {},
   "source": [
    "#### Pessoas de até 30 anos não tem doenças cardiovasculares.\n"
   ]
  },
  {
   "cell_type": "code",
   "execution_count": 20,
   "id": "74dd02ab",
   "metadata": {},
   "outputs": [
    {
     "data": {
      "image/png": "[encoded data removed]",
      "text/plain": [
       "<Figure size 1800x864 with 1 Axes>"
      ]
     },
     "metadata": {},
     "output_type": "display_data"
    }
   ],
   "source": [
    "aux = df4[df4['age'] >= 30]\n",
    "aux = aux[['age', 'cardio']].groupby('age').sum().reset_index()#.sort_values(by='cardio', ascending=True)\n",
    "sns.barplot(x='age', y='cardio', palette=\"deep\", data=aux);"
   ]
  },
  {
   "cell_type": "markdown",
   "id": "608698b5",
   "metadata": {},
   "source": [
    "#### Pessoas acima do peso tem mais doenças cardiovasculares."
   ]
  },
  {
   "cell_type": "code",
   "execution_count": 21,
   "id": "cd2a65a0",
   "metadata": {},
   "outputs": [],
   "source": [
    "df4['imc'] = df4.apply(lambda x: x['weight'] / (x['height'] * x['height']), axis=1).astype(str)\n",
    "df4['imc'] = df4['imc'].apply(lambda x: x[4:6]).astype(int)\n",
    "\n",
    "df4['classificacao_imc'] = df4['imc'].apply(lambda x: 'abaixo_do_peso' if x <= 18 else\n",
    "         'peso_normal' if x >= 19 and x <= 25 else \n",
    "         'sobrepeso' if x >= 26 and x <= 30 else\n",
    "         'obesidade_grau_1 ' if x >= 31 and x <= 35 else\n",
    "         'obesidade_grau_2'  if x >= 32 and x <= 40 else\n",
    "         'obesidade_grau_3' if x >= 33 and x <= 40 else\n",
    "         'Obesidade_grau_4'\n",
    "         )"
   ]
  },
  {
   "cell_type": "code",
   "execution_count": 22,
   "id": "df6eaabd",
   "metadata": {},
   "outputs": [
    {
     "data": {
      "image/png": "[encoded data removed]",
      "text/plain": [
       "<Figure size 1573.97x720 with 1 Axes>"
      ]
     },
     "metadata": {},
     "output_type": "display_data"
    }
   ],
   "source": [
    "aux = df4[['classificacao_imc', 'cardio']].groupby('classificacao_imc').sum().reset_index()\n",
    "\n",
    "sns.catplot(\n",
    "    data=aux, kind=\"bar\",\n",
    "    x=\"cardio\", y=\"classificacao_imc\", hue=\"classificacao_imc\",\n",
    "    height=10, aspect=2\n",
    ");"
   ]
  },
  {
   "cell_type": "markdown",
   "id": "9ad72c5f",
   "metadata": {},
   "source": [
    "# 5.0. DATA PREPARATION"
   ]
  },
  {
   "cell_type": "code",
   "execution_count": 23,
   "id": "965bcb6e",
   "metadata": {},
   "outputs": [],
   "source": [
    "df5 = df4.copy()"
   ]
  },
  {
   "cell_type": "code",
   "execution_count": 24,
   "id": "dc7e8405",
   "metadata": {},
   "outputs": [
    {
     "data": {
      "text/plain": [
       "id                    int64\n",
       "age                   int64\n",
       "gender                int64\n",
       "height                int64\n",
       "weight                int64\n",
       "ap_hi                 int64\n",
       "ap_lo                 int64\n",
       "cholesterol           int64\n",
       "gluc                  int64\n",
       "smoke                 int64\n",
       "alco                  int64\n",
       "active                int64\n",
       "cardio                int64\n",
       "imc                   int64\n",
       "classificacao_imc    object\n",
       "dtype: object"
      ]
     },
     "execution_count": 24,
     "metadata": {},
     "output_type": "execute_result"
    }
   ],
   "source": [
    "df5.dtypes"
   ]
  },
  {
   "cell_type": "code",
   "execution_count": null,
   "id": "c8be7237",
   "metadata": {},
   "outputs": [],
   "source": []
  },
  {
   "cell_type": "code",
   "execution_count": null,
   "id": "354816ff",
   "metadata": {},
   "outputs": [],
   "source": []
  },
  {
   "cell_type": "code",
   "execution_count": null,
   "id": "3e345d70",
   "metadata": {},
   "outputs": [],
   "source": []
  }
 ],
 "metadata": {
  "kernelspec": {
   "display_name": "Python 3.8.10 64-bit",
   "language": "python",
   "name": "python3"
  },
  "language_info": {
   "codemirror_mode": {
    "name": "ipython",
    "version": 3
   },
   "file_extension": ".py",
   "mimetype": "text/x-python",
   "name": "python",
   "nbconvert_exporter": "python",
   "pygments_lexer": "ipython3",
   "version": "3.8.10"
  },
  "nbTranslate": {
   "displayLangs": [
    "*"
   ],
   "hotkey": "alt-t",
   "langInMainMenu": true,
   "sourceLang": "en",
   "targetLang": "fr",
   "useGoogleTranslate": true
  },
  "toc": {
   "base_numbering": 1,
   "nav_menu": {},
   "number_sections": true,
   "sideBar": true,
   "skip_h1_title": false,
   "title_cell": "Table of Contents",
   "title_sidebar": "Contents",
   "toc_cell": false,
   "toc_position": {},
   "toc_section_display": true,
   "toc_window_display": false
  },
  "vscode": {
   "interpreter": {
    "hash": "e7370f93d1d0cde622a1f8e1c04877d8463912d04d973331ad4851f04de6915a"
   }
  }
 },
 "nbformat": 4,
 "nbformat_minor": 5
}
