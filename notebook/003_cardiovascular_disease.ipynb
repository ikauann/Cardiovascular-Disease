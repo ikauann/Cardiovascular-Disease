{
 "cells": [
  {
   "cell_type": "markdown",
   "id": "90ff5379",
   "metadata": {},
   "source": [
    "# Cardio Catch Diseases\n",
    "\n",
    "## Predicting cardiovascular diseases"
   ]
  },
  {
   "cell_type": "markdown",
   "id": "8c2c9661",
   "metadata": {},
   "source": [
    "## 1. Business Problem."
   ]
  },
  {
   "cell_type": "markdown",
   "id": "6a91fefa",
   "metadata": {},
   "source": [
    "Cardio Catch Diseases is a company specialized in detecting heart disease in the early stages. Its business model lies in offering an early diagnosis of cardiovascular disease for a certain price.\n",
    "Currently, the diagnosis of cardiovascular disease is manually made by a team of specialists. The current accuracy of the diagnosis varies between 55% and 65%, due to the complexity of the diagnosis and also the fatigue of the team who take turns to minimize the risks. The cost of each diagnosis, including the devices and the payroll of the analysts, is around $1,000.00.\n",
    "The price of the diagnosis, paid by the client, varies according to the precision achieved by the team of specialists.\n",
    "\n",
    "| Exam Accuracy | Price          | Rules                                    | Example                         |\n",
    "|:--------------|:---------------|:-----------------------------------------|:--------------------------------|\n",
    "| Above 50%     | min \\$500\\.00  | \\+\\$500 for each additional 5% precision | Precision = 55% \\-> \\$1,000\\.00 |\n",
    "| Up to 50%     | $0\\.00         | N/A                                      | N/A                             |\n",
    "\n",
    "Thus, we see that different values in the exam precision, given by the team of specialists, make the company either have a profitable operation, revenue greater than the cost, or an operation with a loss, revenue less than the cost. This instability of the diagnosis makes the company to have an unpredictable cashflow."
   ]
  },
  {
   "cell_type": "markdown",
   "id": "09c26571",
   "metadata": {},
   "source": [
    "## 2. Business Assumptions."
   ]
  },
  {
   "cell_type": "markdown",
   "id": "bcbfdb39",
   "metadata": {},
   "source": [
    "The assumptions about the business problem is as follows:\n",
    "\n",
    "- **CVDs are the number 1 cause of death globally**: more people die annually from CVDs than from any other cause.\n",
    "- An estimated **17.9 million** people died from CVDs in 2016, representing 31% of all global deaths. Of these deaths, 85% are due to heart attack and stroke.\n",
    "- Over three quarters of CVD deaths take place in **low- and middle-income countries**.\n",
    "- Out of the **17 million** premature deaths (under the age of 70) due to noncommunicable diseases in 2015, **82%** are in low- and middle-income countries, and 37% are caused by CVDs.\n",
    "- Most cardiovascular diseases can be **prevented by addressing behavioural risk factors** such as tobacco use, unhealthy diet and obesity, physical inactivity and harmful use of alcohol using population-wide strategies.\n",
    "- People with cardiovascular disease or who are at high cardiovascular risk (due to the presence of one or more risk factors such as hypertension, diabetes, hyperlipidaemia or already established disease) **need early detection and management** using counselling and medicines, as appropriate.\n"
   ]
  },
  {
   "cell_type": "markdown",
   "id": "6d61f08a",
   "metadata": {},
   "source": [
    "## 3. Solution Strategy\n"
   ]
  },
  {
   "cell_type": "markdown",
   "id": "1fc58a05",
   "metadata": {},
   "source": [
    "\n",
    "My strategy to solve this challenge was:\n",
    "\n",
    "**Step 01. Data Description:** My goal is to use statistics metrics to identify data outside the scope of business.\n",
    "\n",
    "**Step 02. Feature Engineering:** Derive new attributes based on the original variables to better describe the phenomenon that will be modeled.\n",
    "\n",
    "**Step 03. Data Filtering:** Filter rows and select columns that do not contain information for modeling or that do not match the scope of the business.\n",
    "\n",
    "**Step 04. Exploratory Data Analysis:** Explore the data to find insights and better understand the impact of variables on model learning.\n",
    "\n",
    "**Step 05. Data Preparation:** Prepare the data so that the Machine Learning models can learn the specific behavior.\n",
    "\n",
    "**Step 06. Feature Selection:** Selection of the most significant attributes for training the model.\n",
    "\n",
    "**Step 07. Machine Learning Modelling:** Machine Learning model training\n",
    "\n",
    "**Step 08. Hyperparameter Fine Tunning:** Choose the best values for each of the parameters of the model selected from the previous step.\n",
    "\n",
    "**Step 09. Convert Model Performance to Business Values:** Convert the performance of the Machine Learning model into a business result.\n",
    "\n",
    "**Step 10. Deploy Modelo to Production:** Publish the model in a cloud environment so that other people or services can use the results to improve the business decision."
   ]
  },
  {
   "cell_type": "markdown",
   "id": "ad50631a",
   "metadata": {},
   "source": [
    "## 4. Top 3 Data Insights\n",
    "\n",
    "- **false.** People who smoke have more cardiovascular diseases.\n",
    "- **true.** People up to 30 years old have the least cardiovascular diseases.\n",
    "- **false.** People who do not practice physical activity have more cardiovascular diseases."
   ]
  },
  {
   "cell_type": "markdown",
   "id": "affef3de",
   "metadata": {},
   "source": [
    "## 5. Machine Learning Model Applied"
   ]
  },
  {
   "cell_type": "markdown",
   "id": "16439ac8",
   "metadata": {},
   "source": [
    "Tests were made using different algorithms."
   ]
  },
  {
   "cell_type": "markdown",
   "id": "e0a44bd5",
   "metadata": {},
   "source": [
    "## 6. Machine Learning Modelo Performance\n",
    "The chosen algorithm was the **CatBoost Classifier**. In addition, I made a performance calibration on it."
   ]
  },
  {
   "cell_type": "markdown",
   "id": "feba8f16",
   "metadata": {},
   "source": [
    "#### Precision, Recall and other metrics\n",
    "\n",
    "These are the metrics obtained from the test set.\n",
    "\n",
    "| precision | recall  | f1\\-score | accuracy |\n",
    "|-----------|---------|-----------|----------|\n",
    "| 0\\.7350   | 0\\.7313 | 0\\.7331   | 0\\.7303  |"
   ]
  },
  {
   "cell_type": "markdown",
   "id": "a7b5cb95",
   "metadata": {},
   "source": [
    "## 7. Conclusions"
   ]
  },
  {
   "cell_type": "markdown",
   "id": "90c37c1d",
   "metadata": {},
   "source": [
    "There is still more work to do."
   ]
  },
  {
   "cell_type": "markdown",
   "id": "324ca15a",
   "metadata": {},
   "source": [
    "## 8. Lessons Learned"
   ]
  },
  {
   "cell_type": "markdown",
   "id": "90194b78",
   "metadata": {},
   "source": [
    "- I learned to convert model to business.\n",
    "\n",
    "- learned a new algorithm (CatBoost).\n",
    "\n",
    "- I learned to use confusion matrix"
   ]
  },
  {
   "cell_type": "markdown",
   "id": "9b88d4e6",
   "metadata": {},
   "source": [
    "## 9. Next Steps to Improve"
   ]
  },
  {
   "cell_type": "markdown",
   "id": "6c6cb089",
   "metadata": {},
   "source": [
    "- Try to improve Feature Engineering, creating more variables\n",
    "\n",
    "- Improve my Exploratory Data Analysis with more hypotheses and a mind map.\n",
    "\n",
    "- Improve my Data Preparation and use better encodings\n",
    "\n",
    "- Do Hyperparameter Fine Tunning to get better accuracy to increase business value.\n",
    "\n",
    "- Deploy Model to Production"
   ]
  },
  {
   "cell_type": "code",
   "execution_count": null,
   "id": "92538993",
   "metadata": {},
   "outputs": [],
   "source": []
  },
  {
   "cell_type": "markdown",
   "id": "78888622",
   "metadata": {
    "heading_collapsed": true
   },
   "source": [
    "# 0.0. IMPORTS"
   ]
  },
  {
   "cell_type": "code",
   "execution_count": 1,
   "id": "ec50ff27",
   "metadata": {
    "ExecuteTime": {
     "end_time": "2022-07-22T23:59:25.673493Z",
     "start_time": "2022-07-22T23:59:25.667573Z"
    },
    "hidden": true
   },
   "outputs": [],
   "source": [
    "import pandas as pd\n",
    "import numpy as np\n",
    "\n",
    "import seaborn as sns\n",
    "\n",
    "import matplotlib.pyplot as plt\n",
    "import matplotlib\n",
    "\n",
    "from IPython.display import HTML\n",
    "\n",
    "from sklearn.model_selection import train_test_split"
   ]
  },
  {
   "cell_type": "markdown",
   "id": "20b27728",
   "metadata": {
    "hidden": true
   },
   "source": [
    "## 0.1. Loading Data"
   ]
  },
  {
   "cell_type": "code",
   "execution_count": 2,
   "id": "0b243905",
   "metadata": {
    "ExecuteTime": {
     "end_time": "2022-07-22T23:59:26.140794Z",
     "start_time": "2022-07-22T23:59:26.064313Z"
    },
    "hidden": true
   },
   "outputs": [],
   "source": [
    "df = pd.read_csv('../data/cardio_train.csv',sep=';')"
   ]
  },
  {
   "cell_type": "markdown",
   "id": "90f35443",
   "metadata": {
    "hidden": true
   },
   "source": [
    "## 0.2. Helper Fuctions"
   ]
  },
  {
   "cell_type": "code",
   "execution_count": 3,
   "id": "89de34da",
   "metadata": {
    "ExecuteTime": {
     "end_time": "2022-07-22T23:59:26.548904Z",
     "start_time": "2022-07-22T23:59:26.536262Z"
    },
    "hidden": true
   },
   "outputs": [
    {
     "name": "stdout",
     "output_type": "stream",
     "text": [
      "%pylab is deprecated, use %matplotlib inline and import the required libraries.\n",
      "Populating the interactive namespace from numpy and matplotlib\n"
     ]
    }
   ],
   "source": [
    "def jupyter_settings():\n",
    "    %matplotlib inline\n",
    "    %pylab inline\n",
    "    \n",
    "    plt.style.use( 'bmh' )\n",
    "    plt.rcParams['figure.figsize'] = [25, 12]\n",
    "    plt.rcParams['font.size'] = 24\n",
    "    \n",
    "    sns.set()\n",
    "jupyter_settings()"
   ]
  },
  {
   "cell_type": "markdown",
   "id": "eed888c8",
   "metadata": {
    "heading_collapsed": true
   },
   "source": [
    "# 1.0. DATA DESCRIPTION"
   ]
  },
  {
   "cell_type": "code",
   "execution_count": 4,
   "id": "558f0bd0",
   "metadata": {},
   "outputs": [],
   "source": [
    "df1 = df.copy()"
   ]
  },
  {
   "cell_type": "markdown",
   "id": "18892200",
   "metadata": {
    "hidden": true
   },
   "source": [
    "## 1.1. Data Dimensions"
   ]
  },
  {
   "cell_type": "code",
   "execution_count": 5,
   "id": "2aa6678f",
   "metadata": {
    "ExecuteTime": {
     "end_time": "2022-07-22T23:59:37.534461Z",
     "start_time": "2022-07-22T23:59:37.529022Z"
    },
    "hidden": true
   },
   "outputs": [
    {
     "name": "stdout",
     "output_type": "stream",
     "text": [
      "number of rows: 70000\n",
      "number of columns: 13\n"
     ]
    }
   ],
   "source": [
    "print(f'number of rows: {df1.shape[0]}')\n",
    "print(f'number of columns: {df1.shape[1]}')"
   ]
  },
  {
   "cell_type": "markdown",
   "id": "5b2d544a",
   "metadata": {
    "hidden": true
   },
   "source": [
    "## 1.2. Data Types"
   ]
  },
  {
   "cell_type": "code",
   "execution_count": 6,
   "id": "4517a3f4",
   "metadata": {
    "ExecuteTime": {
     "end_time": "2022-07-22T23:59:37.855271Z",
     "start_time": "2022-07-22T23:59:37.841125Z"
    },
    "hidden": true
   },
   "outputs": [
    {
     "data": {
      "text/plain": [
       "id               int64\n",
       "age              int64\n",
       "gender           int64\n",
       "height           int64\n",
       "weight         float64\n",
       "ap_hi            int64\n",
       "ap_lo            int64\n",
       "cholesterol      int64\n",
       "gluc             int64\n",
       "smoke            int64\n",
       "alco             int64\n",
       "active           int64\n",
       "cardio           int64\n",
       "dtype: object"
      ]
     },
     "execution_count": 6,
     "metadata": {},
     "output_type": "execute_result"
    }
   ],
   "source": [
    "df1.dtypes"
   ]
  },
  {
   "cell_type": "markdown",
   "id": "c70d9a8a",
   "metadata": {
    "hidden": true
   },
   "source": [
    "## 1.3. Check NA"
   ]
  },
  {
   "cell_type": "code",
   "execution_count": 7,
   "id": "bc12a248",
   "metadata": {
    "ExecuteTime": {
     "end_time": "2022-07-22T23:59:38.151936Z",
     "start_time": "2022-07-22T23:59:38.139579Z"
    },
    "hidden": true
   },
   "outputs": [
    {
     "data": {
      "text/plain": [
       "id             0\n",
       "age            0\n",
       "gender         0\n",
       "height         0\n",
       "weight         0\n",
       "ap_hi          0\n",
       "ap_lo          0\n",
       "cholesterol    0\n",
       "gluc           0\n",
       "smoke          0\n",
       "alco           0\n",
       "active         0\n",
       "cardio         0\n",
       "dtype: int64"
      ]
     },
     "execution_count": 7,
     "metadata": {},
     "output_type": "execute_result"
    }
   ],
   "source": [
    "df1.isnull().sum()"
   ]
  },
  {
   "cell_type": "markdown",
   "id": "4f825f15",
   "metadata": {
    "hidden": true
   },
   "source": [
    "## 1.4. Change Age"
   ]
  },
  {
   "cell_type": "code",
   "execution_count": 8,
   "id": "30f55a08",
   "metadata": {
    "ExecuteTime": {
     "end_time": "2022-07-22T23:59:38.534029Z",
     "start_time": "2022-07-22T23:59:38.430945Z"
    },
    "hidden": true
   },
   "outputs": [],
   "source": [
    "df1['age'] = df1['age'].apply(lambda x: round(x / 365))\n",
    "df1['weight'] = df1['weight'].apply(lambda x: round(x))"
   ]
  },
  {
   "cell_type": "markdown",
   "id": "8be40763",
   "metadata": {},
   "source": [
    "# 2.0. DESCRIPTIVE ANALYSIS"
   ]
  },
  {
   "cell_type": "code",
   "execution_count": 9,
   "id": "118280ba",
   "metadata": {
    "ExecuteTime": {
     "end_time": "2022-07-22T23:59:38.690042Z",
     "start_time": "2022-07-22T23:59:38.678329Z"
    }
   },
   "outputs": [],
   "source": [
    "df2 = df1.copy()"
   ]
  },
  {
   "cell_type": "markdown",
   "id": "5db083e6",
   "metadata": {
    "heading_collapsed": true
   },
   "source": [
    "## 2.1. Numerical"
   ]
  },
  {
   "cell_type": "code",
   "execution_count": 10,
   "id": "687f4787",
   "metadata": {
    "ExecuteTime": {
     "end_time": "2022-07-22T23:59:39.090526Z",
     "start_time": "2022-07-22T23:59:39.015054Z"
    },
    "hidden": true
   },
   "outputs": [
    {
     "data": {
      "text/html": [
       "<div>\n",
       "<style scoped>\n",
       "    .dataframe tbody tr th:only-of-type {\n",
       "        vertical-align: middle;\n",
       "    }\n",
       "\n",
       "    .dataframe tbody tr th {\n",
       "        vertical-align: top;\n",
       "    }\n",
       "\n",
       "    .dataframe thead th {\n",
       "        text-align: right;\n",
       "    }\n",
       "</style>\n",
       "<table border=\"1\" class=\"dataframe\">\n",
       "  <thead>\n",
       "    <tr style=\"text-align: right;\">\n",
       "      <th></th>\n",
       "      <th>min</th>\n",
       "      <th>max</th>\n",
       "      <th>range</th>\n",
       "      <th>mean</th>\n",
       "      <th>median</th>\n",
       "      <th>std</th>\n",
       "      <th>skew</th>\n",
       "      <th>kurtosis</th>\n",
       "    </tr>\n",
       "  </thead>\n",
       "  <tbody>\n",
       "    <tr>\n",
       "      <th>id</th>\n",
       "      <td>0</td>\n",
       "      <td>99999</td>\n",
       "      <td>99999</td>\n",
       "      <td>49972.419900</td>\n",
       "      <td>50001.5</td>\n",
       "      <td>28851.096242</td>\n",
       "      <td>-0.001278</td>\n",
       "      <td>-1.198374</td>\n",
       "    </tr>\n",
       "    <tr>\n",
       "      <th>age</th>\n",
       "      <td>30</td>\n",
       "      <td>65</td>\n",
       "      <td>35</td>\n",
       "      <td>53.338686</td>\n",
       "      <td>54.0</td>\n",
       "      <td>6.765246</td>\n",
       "      <td>-0.306444</td>\n",
       "      <td>-0.821815</td>\n",
       "    </tr>\n",
       "    <tr>\n",
       "      <th>gender</th>\n",
       "      <td>1</td>\n",
       "      <td>2</td>\n",
       "      <td>1</td>\n",
       "      <td>1.349571</td>\n",
       "      <td>1.0</td>\n",
       "      <td>0.476835</td>\n",
       "      <td>0.630960</td>\n",
       "      <td>-1.601935</td>\n",
       "    </tr>\n",
       "    <tr>\n",
       "      <th>height</th>\n",
       "      <td>55</td>\n",
       "      <td>250</td>\n",
       "      <td>195</td>\n",
       "      <td>164.359229</td>\n",
       "      <td>165.0</td>\n",
       "      <td>8.210068</td>\n",
       "      <td>-0.642187</td>\n",
       "      <td>7.943653</td>\n",
       "    </tr>\n",
       "    <tr>\n",
       "      <th>weight</th>\n",
       "      <td>10</td>\n",
       "      <td>200</td>\n",
       "      <td>190</td>\n",
       "      <td>74.205543</td>\n",
       "      <td>72.0</td>\n",
       "      <td>14.395726</td>\n",
       "      <td>1.012070</td>\n",
       "      <td>2.586848</td>\n",
       "    </tr>\n",
       "    <tr>\n",
       "      <th>ap_hi</th>\n",
       "      <td>-150</td>\n",
       "      <td>16020</td>\n",
       "      <td>16170</td>\n",
       "      <td>128.817286</td>\n",
       "      <td>120.0</td>\n",
       "      <td>154.010319</td>\n",
       "      <td>85.296214</td>\n",
       "      <td>7580.074738</td>\n",
       "    </tr>\n",
       "    <tr>\n",
       "      <th>ap_lo</th>\n",
       "      <td>-70</td>\n",
       "      <td>11000</td>\n",
       "      <td>11070</td>\n",
       "      <td>96.630414</td>\n",
       "      <td>80.0</td>\n",
       "      <td>188.471184</td>\n",
       "      <td>32.114083</td>\n",
       "      <td>1425.914585</td>\n",
       "    </tr>\n",
       "    <tr>\n",
       "      <th>cholesterol</th>\n",
       "      <td>1</td>\n",
       "      <td>3</td>\n",
       "      <td>2</td>\n",
       "      <td>1.366871</td>\n",
       "      <td>1.0</td>\n",
       "      <td>0.680245</td>\n",
       "      <td>1.587123</td>\n",
       "      <td>0.993901</td>\n",
       "    </tr>\n",
       "    <tr>\n",
       "      <th>gluc</th>\n",
       "      <td>1</td>\n",
       "      <td>3</td>\n",
       "      <td>2</td>\n",
       "      <td>1.226457</td>\n",
       "      <td>1.0</td>\n",
       "      <td>0.572266</td>\n",
       "      <td>2.397462</td>\n",
       "      <td>4.294377</td>\n",
       "    </tr>\n",
       "    <tr>\n",
       "      <th>smoke</th>\n",
       "      <td>0</td>\n",
       "      <td>1</td>\n",
       "      <td>1</td>\n",
       "      <td>0.088129</td>\n",
       "      <td>0.0</td>\n",
       "      <td>0.283482</td>\n",
       "      <td>2.905867</td>\n",
       "      <td>6.444250</td>\n",
       "    </tr>\n",
       "    <tr>\n",
       "      <th>alco</th>\n",
       "      <td>0</td>\n",
       "      <td>1</td>\n",
       "      <td>1</td>\n",
       "      <td>0.053771</td>\n",
       "      <td>0.0</td>\n",
       "      <td>0.225566</td>\n",
       "      <td>3.956607</td>\n",
       "      <td>13.655125</td>\n",
       "    </tr>\n",
       "    <tr>\n",
       "      <th>active</th>\n",
       "      <td>0</td>\n",
       "      <td>1</td>\n",
       "      <td>1</td>\n",
       "      <td>0.803729</td>\n",
       "      <td>1.0</td>\n",
       "      <td>0.397176</td>\n",
       "      <td>-1.529473</td>\n",
       "      <td>0.339296</td>\n",
       "    </tr>\n",
       "    <tr>\n",
       "      <th>cardio</th>\n",
       "      <td>0</td>\n",
       "      <td>1</td>\n",
       "      <td>1</td>\n",
       "      <td>0.499700</td>\n",
       "      <td>0.0</td>\n",
       "      <td>0.500000</td>\n",
       "      <td>0.001200</td>\n",
       "      <td>-2.000056</td>\n",
       "    </tr>\n",
       "  </tbody>\n",
       "</table>\n",
       "</div>"
      ],
      "text/plain": [
       "             min    max  range          mean   median           std  \\\n",
       "id             0  99999  99999  49972.419900  50001.5  28851.096242   \n",
       "age           30     65     35     53.338686     54.0      6.765246   \n",
       "gender         1      2      1      1.349571      1.0      0.476835   \n",
       "height        55    250    195    164.359229    165.0      8.210068   \n",
       "weight        10    200    190     74.205543     72.0     14.395726   \n",
       "ap_hi       -150  16020  16170    128.817286    120.0    154.010319   \n",
       "ap_lo        -70  11000  11070     96.630414     80.0    188.471184   \n",
       "cholesterol    1      3      2      1.366871      1.0      0.680245   \n",
       "gluc           1      3      2      1.226457      1.0      0.572266   \n",
       "smoke          0      1      1      0.088129      0.0      0.283482   \n",
       "alco           0      1      1      0.053771      0.0      0.225566   \n",
       "active         0      1      1      0.803729      1.0      0.397176   \n",
       "cardio         0      1      1      0.499700      0.0      0.500000   \n",
       "\n",
       "                  skew     kurtosis  \n",
       "id           -0.001278    -1.198374  \n",
       "age          -0.306444    -0.821815  \n",
       "gender        0.630960    -1.601935  \n",
       "height       -0.642187     7.943653  \n",
       "weight        1.012070     2.586848  \n",
       "ap_hi        85.296214  7580.074738  \n",
       "ap_lo        32.114083  1425.914585  \n",
       "cholesterol   1.587123     0.993901  \n",
       "gluc          2.397462     4.294377  \n",
       "smoke         2.905867     6.444250  \n",
       "alco          3.956607    13.655125  \n",
       "active       -1.529473     0.339296  \n",
       "cardio        0.001200    -2.000056  "
      ]
     },
     "execution_count": 10,
     "metadata": {},
     "output_type": "execute_result"
    }
   ],
   "source": [
    "da = pd.DataFrame({\n",
    "\n",
    "    'min': df2.apply(lambda x: x.min()), \n",
    "    'max': df2.apply(lambda x: x.max()),\n",
    "    'range': df2.apply(lambda x: x.max() - x.min()),\n",
    "\n",
    "    'mean': df2.apply(lambda x: x.mean()),\n",
    "    'median': df2.apply(lambda x: x.median()),\n",
    "    'std': df2.apply(lambda x: np.std(x)),\n",
    "\n",
    "    'skew': df2.apply(lambda x: x.skew()),\n",
    "    'kurtosis': df2.apply(lambda x: x.kurtosis())\n",
    "})\n",
    "\n",
    "da #1 female - 2 male"
   ]
  },
  {
   "cell_type": "markdown",
   "id": "f8064804",
   "metadata": {
    "heading_collapsed": true
   },
   "source": [
    "# 3.0. FEATURE ENGINEERING"
   ]
  },
  {
   "cell_type": "code",
   "execution_count": 11,
   "id": "ca7cc07f",
   "metadata": {
    "ExecuteTime": {
     "end_time": "2022-07-22T23:59:39.270998Z",
     "start_time": "2022-07-22T23:59:39.261978Z"
    },
    "hidden": true
   },
   "outputs": [],
   "source": [
    "df3 = df2.copy()"
   ]
  },
  {
   "cell_type": "code",
   "execution_count": 12,
   "id": "3ab59cf2",
   "metadata": {
    "ExecuteTime": {
     "end_time": "2022-07-22T23:59:40.464056Z",
     "start_time": "2022-07-22T23:59:39.374012Z"
    },
    "hidden": true
   },
   "outputs": [],
   "source": [
    "df3['imc'] = df3.apply(lambda x: x['weight'] / (x['height'] * x['height']), axis=1).astype(str)\n",
    "df3['imc'] = df3['imc'].apply(lambda x: x[4:6]).astype(int)\n",
    "\n",
    "df3['classificacao_imc'] = df3['imc'].apply(lambda x: 'abaixo_do_peso' if x <= 18 else\n",
    "         'peso_normal' if x >= 19 and x <= 25 else \n",
    "         'sobrepeso' if x >= 26 and x <= 30 else\n",
    "         'obesidade_grau_1 ' if x >= 31 and x <= 35 else\n",
    "         'obesidade_grau_2'  if x >= 32 and x <= 40 else\n",
    "         'obesidade_grau_3' if x >= 33 and x <= 40 else\n",
    "         'Obesidade_grau_4'\n",
    "         )"
   ]
  },
  {
   "cell_type": "markdown",
   "id": "c45ee9ba",
   "metadata": {},
   "source": [
    "# 4.0. DATA ANALYSIS"
   ]
  },
  {
   "cell_type": "code",
   "execution_count": 13,
   "id": "c9f92cee",
   "metadata": {
    "ExecuteTime": {
     "end_time": "2022-07-22T23:59:40.485497Z",
     "start_time": "2022-07-22T23:59:40.468337Z"
    }
   },
   "outputs": [],
   "source": [
    "df4 = df3.copy()"
   ]
  },
  {
   "cell_type": "markdown",
   "id": "e08aa172",
   "metadata": {},
   "source": [
    "## 4.1. LIST HYPOTHESIS"
   ]
  },
  {
   "cell_type": "markdown",
   "id": "4802f8bd",
   "metadata": {},
   "source": [
    "- Pessoas que fumam tem mais doenças cardiovasculares."
   ]
  },
  {
   "cell_type": "markdown",
   "id": "0fa63474",
   "metadata": {},
   "source": [
    "- Pessoas que não praticam atividade fisica tem mais doenças cardiovasculares.\n"
   ]
  },
  {
   "cell_type": "markdown",
   "id": "28fe0570",
   "metadata": {},
   "source": [
    "- Pessoas de até 30 anos são os que tem menos doenças cardiovasculares."
   ]
  },
  {
   "cell_type": "markdown",
   "id": "608698b5",
   "metadata": {},
   "source": [
    "- Pessoas acima do peso tem mais doenças cardiovasculares."
   ]
  },
  {
   "cell_type": "markdown",
   "id": "ca21c5b3",
   "metadata": {},
   "source": [
    "### 4.1.0. Validate Hypothesis"
   ]
  },
  {
   "cell_type": "markdown",
   "id": "05f2ff10",
   "metadata": {
    "heading_collapsed": true
   },
   "source": [
    "#### Pessoas que fumam tem mais doenças cardiovasculares.\n"
   ]
  },
  {
   "cell_type": "code",
   "execution_count": 16,
   "id": "b1ae24a6",
   "metadata": {
    "ExecuteTime": {
     "end_time": "2022-07-22T23:59:40.844763Z",
     "start_time": "2022-07-22T23:59:40.830407Z"
    },
    "hidden": true
   },
   "outputs": [
    {
     "data": {
      "text/html": [
       "<div>\n",
       "<style scoped>\n",
       "    .dataframe tbody tr th:only-of-type {\n",
       "        vertical-align: middle;\n",
       "    }\n",
       "\n",
       "    .dataframe tbody tr th {\n",
       "        vertical-align: top;\n",
       "    }\n",
       "\n",
       "    .dataframe thead th {\n",
       "        text-align: right;\n",
       "    }\n",
       "</style>\n",
       "<table border=\"1\" class=\"dataframe\">\n",
       "  <thead>\n",
       "    <tr style=\"text-align: right;\">\n",
       "      <th></th>\n",
       "      <th>smoke</th>\n",
       "      <th>cardio</th>\n",
       "    </tr>\n",
       "  </thead>\n",
       "  <tbody>\n",
       "    <tr>\n",
       "      <th>0</th>\n",
       "      <td>0</td>\n",
       "      <td>32050</td>\n",
       "    </tr>\n",
       "    <tr>\n",
       "      <th>1</th>\n",
       "      <td>1</td>\n",
       "      <td>2929</td>\n",
       "    </tr>\n",
       "  </tbody>\n",
       "</table>\n",
       "</div>"
      ],
      "text/plain": [
       "   smoke  cardio\n",
       "0      0   32050\n",
       "1      1    2929"
      ]
     },
     "execution_count": 16,
     "metadata": {},
     "output_type": "execute_result"
    }
   ],
   "source": [
    "aux = df4[['smoke', 'cardio']].groupby('smoke').sum().reset_index()\n",
    "aux"
   ]
  },
  {
   "cell_type": "markdown",
   "id": "1474475d",
   "metadata": {
    "heading_collapsed": true
   },
   "source": [
    "#### Pessoas que não praticam atividade fisica tem mais doenças cardiovasculares.\n"
   ]
  },
  {
   "cell_type": "code",
   "execution_count": 62,
   "id": "eb80f288",
   "metadata": {},
   "outputs": [
    {
     "data": {
      "text/html": [
       "<div>\n",
       "<style scoped>\n",
       "    .dataframe tbody tr th:only-of-type {\n",
       "        vertical-align: middle;\n",
       "    }\n",
       "\n",
       "    .dataframe tbody tr th {\n",
       "        vertical-align: top;\n",
       "    }\n",
       "\n",
       "    .dataframe thead th {\n",
       "        text-align: right;\n",
       "    }\n",
       "</style>\n",
       "<table border=\"1\" class=\"dataframe\">\n",
       "  <thead>\n",
       "    <tr style=\"text-align: right;\">\n",
       "      <th></th>\n",
       "      <th>id</th>\n",
       "      <th>age</th>\n",
       "      <th>gender</th>\n",
       "      <th>height</th>\n",
       "      <th>weight</th>\n",
       "      <th>ap_hi</th>\n",
       "      <th>ap_lo</th>\n",
       "      <th>cholesterol</th>\n",
       "      <th>gluc</th>\n",
       "      <th>smoke</th>\n",
       "      <th>alco</th>\n",
       "      <th>active</th>\n",
       "      <th>cardio</th>\n",
       "      <th>imc</th>\n",
       "      <th>classificacao_imc</th>\n",
       "    </tr>\n",
       "  </thead>\n",
       "  <tbody>\n",
       "    <tr>\n",
       "      <th>0</th>\n",
       "      <td>0</td>\n",
       "      <td>50</td>\n",
       "      <td>2</td>\n",
       "      <td>168</td>\n",
       "      <td>62</td>\n",
       "      <td>110</td>\n",
       "      <td>80</td>\n",
       "      <td>1</td>\n",
       "      <td>1</td>\n",
       "      <td>0</td>\n",
       "      <td>0</td>\n",
       "      <td>1</td>\n",
       "      <td>0</td>\n",
       "      <td>21</td>\n",
       "      <td>peso_normal</td>\n",
       "    </tr>\n",
       "    <tr>\n",
       "      <th>6</th>\n",
       "      <td>9</td>\n",
       "      <td>61</td>\n",
       "      <td>1</td>\n",
       "      <td>157</td>\n",
       "      <td>93</td>\n",
       "      <td>130</td>\n",
       "      <td>80</td>\n",
       "      <td>3</td>\n",
       "      <td>1</td>\n",
       "      <td>0</td>\n",
       "      <td>0</td>\n",
       "      <td>1</td>\n",
       "      <td>0</td>\n",
       "      <td>37</td>\n",
       "      <td>obesidade_grau_2</td>\n",
       "    </tr>\n",
       "    <tr>\n",
       "      <th>8</th>\n",
       "      <td>13</td>\n",
       "      <td>48</td>\n",
       "      <td>1</td>\n",
       "      <td>158</td>\n",
       "      <td>71</td>\n",
       "      <td>110</td>\n",
       "      <td>70</td>\n",
       "      <td>1</td>\n",
       "      <td>1</td>\n",
       "      <td>0</td>\n",
       "      <td>0</td>\n",
       "      <td>1</td>\n",
       "      <td>0</td>\n",
       "      <td>28</td>\n",
       "      <td>sobrepeso</td>\n",
       "    </tr>\n",
       "    <tr>\n",
       "      <th>10</th>\n",
       "      <td>15</td>\n",
       "      <td>62</td>\n",
       "      <td>1</td>\n",
       "      <td>169</td>\n",
       "      <td>80</td>\n",
       "      <td>120</td>\n",
       "      <td>80</td>\n",
       "      <td>1</td>\n",
       "      <td>1</td>\n",
       "      <td>0</td>\n",
       "      <td>0</td>\n",
       "      <td>1</td>\n",
       "      <td>0</td>\n",
       "      <td>28</td>\n",
       "      <td>sobrepeso</td>\n",
       "    </tr>\n",
       "    <tr>\n",
       "      <th>11</th>\n",
       "      <td>16</td>\n",
       "      <td>52</td>\n",
       "      <td>2</td>\n",
       "      <td>173</td>\n",
       "      <td>60</td>\n",
       "      <td>120</td>\n",
       "      <td>80</td>\n",
       "      <td>1</td>\n",
       "      <td>1</td>\n",
       "      <td>0</td>\n",
       "      <td>0</td>\n",
       "      <td>1</td>\n",
       "      <td>0</td>\n",
       "      <td>20</td>\n",
       "      <td>peso_normal</td>\n",
       "    </tr>\n",
       "    <tr>\n",
       "      <th>...</th>\n",
       "      <td>...</td>\n",
       "      <td>...</td>\n",
       "      <td>...</td>\n",
       "      <td>...</td>\n",
       "      <td>...</td>\n",
       "      <td>...</td>\n",
       "      <td>...</td>\n",
       "      <td>...</td>\n",
       "      <td>...</td>\n",
       "      <td>...</td>\n",
       "      <td>...</td>\n",
       "      <td>...</td>\n",
       "      <td>...</td>\n",
       "      <td>...</td>\n",
       "      <td>...</td>\n",
       "    </tr>\n",
       "    <tr>\n",
       "      <th>69987</th>\n",
       "      <td>99979</td>\n",
       "      <td>52</td>\n",
       "      <td>1</td>\n",
       "      <td>151</td>\n",
       "      <td>49</td>\n",
       "      <td>120</td>\n",
       "      <td>80</td>\n",
       "      <td>1</td>\n",
       "      <td>1</td>\n",
       "      <td>0</td>\n",
       "      <td>0</td>\n",
       "      <td>1</td>\n",
       "      <td>0</td>\n",
       "      <td>21</td>\n",
       "      <td>peso_normal</td>\n",
       "    </tr>\n",
       "    <tr>\n",
       "      <th>69988</th>\n",
       "      <td>99981</td>\n",
       "      <td>60</td>\n",
       "      <td>1</td>\n",
       "      <td>160</td>\n",
       "      <td>59</td>\n",
       "      <td>110</td>\n",
       "      <td>70</td>\n",
       "      <td>1</td>\n",
       "      <td>1</td>\n",
       "      <td>0</td>\n",
       "      <td>0</td>\n",
       "      <td>1</td>\n",
       "      <td>0</td>\n",
       "      <td>23</td>\n",
       "      <td>peso_normal</td>\n",
       "    </tr>\n",
       "    <tr>\n",
       "      <th>69991</th>\n",
       "      <td>99988</td>\n",
       "      <td>56</td>\n",
       "      <td>1</td>\n",
       "      <td>159</td>\n",
       "      <td>72</td>\n",
       "      <td>130</td>\n",
       "      <td>90</td>\n",
       "      <td>2</td>\n",
       "      <td>2</td>\n",
       "      <td>0</td>\n",
       "      <td>0</td>\n",
       "      <td>1</td>\n",
       "      <td>0</td>\n",
       "      <td>28</td>\n",
       "      <td>sobrepeso</td>\n",
       "    </tr>\n",
       "    <tr>\n",
       "      <th>69995</th>\n",
       "      <td>99993</td>\n",
       "      <td>53</td>\n",
       "      <td>2</td>\n",
       "      <td>168</td>\n",
       "      <td>76</td>\n",
       "      <td>120</td>\n",
       "      <td>80</td>\n",
       "      <td>1</td>\n",
       "      <td>1</td>\n",
       "      <td>1</td>\n",
       "      <td>0</td>\n",
       "      <td>1</td>\n",
       "      <td>0</td>\n",
       "      <td>26</td>\n",
       "      <td>sobrepeso</td>\n",
       "    </tr>\n",
       "    <tr>\n",
       "      <th>69999</th>\n",
       "      <td>99999</td>\n",
       "      <td>56</td>\n",
       "      <td>1</td>\n",
       "      <td>170</td>\n",
       "      <td>72</td>\n",
       "      <td>120</td>\n",
       "      <td>80</td>\n",
       "      <td>2</td>\n",
       "      <td>1</td>\n",
       "      <td>0</td>\n",
       "      <td>0</td>\n",
       "      <td>1</td>\n",
       "      <td>0</td>\n",
       "      <td>24</td>\n",
       "      <td>peso_normal</td>\n",
       "    </tr>\n",
       "  </tbody>\n",
       "</table>\n",
       "<p>28643 rows × 15 columns</p>\n",
       "</div>"
      ],
      "text/plain": [
       "          id  age  gender  height  weight  ap_hi  ap_lo  cholesterol  gluc  \\\n",
       "0          0   50       2     168      62    110     80            1     1   \n",
       "6          9   61       1     157      93    130     80            3     1   \n",
       "8         13   48       1     158      71    110     70            1     1   \n",
       "10        15   62       1     169      80    120     80            1     1   \n",
       "11        16   52       2     173      60    120     80            1     1   \n",
       "...      ...  ...     ...     ...     ...    ...    ...          ...   ...   \n",
       "69987  99979   52       1     151      49    120     80            1     1   \n",
       "69988  99981   60       1     160      59    110     70            1     1   \n",
       "69991  99988   56       1     159      72    130     90            2     2   \n",
       "69995  99993   53       2     168      76    120     80            1     1   \n",
       "69999  99999   56       1     170      72    120     80            2     1   \n",
       "\n",
       "       smoke  alco  active  cardio  imc classificacao_imc  \n",
       "0          0     0       1       0   21       peso_normal  \n",
       "6          0     0       1       0   37  obesidade_grau_2  \n",
       "8          0     0       1       0   28         sobrepeso  \n",
       "10         0     0       1       0   28         sobrepeso  \n",
       "11         0     0       1       0   20       peso_normal  \n",
       "...      ...   ...     ...     ...  ...               ...  \n",
       "69987      0     0       1       0   21       peso_normal  \n",
       "69988      0     0       1       0   23       peso_normal  \n",
       "69991      0     0       1       0   28         sobrepeso  \n",
       "69995      1     0       1       0   26         sobrepeso  \n",
       "69999      0     0       1       0   24       peso_normal  \n",
       "\n",
       "[28643 rows x 15 columns]"
      ]
     },
     "execution_count": 62,
     "metadata": {},
     "output_type": "execute_result"
    }
   ],
   "source": [
    "df4[(df4['active'] == 1) & (df4['cardio'] == 0)]"
   ]
  },
  {
   "cell_type": "code",
   "execution_count": 60,
   "id": "eb9bbf14",
   "metadata": {
    "ExecuteTime": {
     "end_time": "2022-07-22T23:59:41.000557Z",
     "start_time": "2022-07-22T23:59:40.986223Z"
    },
    "hidden": true
   },
   "outputs": [
    {
     "data": {
      "text/html": [
       "<div>\n",
       "<style scoped>\n",
       "    .dataframe tbody tr th:only-of-type {\n",
       "        vertical-align: middle;\n",
       "    }\n",
       "\n",
       "    .dataframe tbody tr th {\n",
       "        vertical-align: top;\n",
       "    }\n",
       "\n",
       "    .dataframe thead th {\n",
       "        text-align: right;\n",
       "    }\n",
       "</style>\n",
       "<table border=\"1\" class=\"dataframe\">\n",
       "  <thead>\n",
       "    <tr style=\"text-align: right;\">\n",
       "      <th></th>\n",
       "      <th>active</th>\n",
       "      <th>cardio</th>\n",
       "    </tr>\n",
       "  </thead>\n",
       "  <tbody>\n",
       "    <tr>\n",
       "      <th>0</th>\n",
       "      <td>0</td>\n",
       "      <td>7361</td>\n",
       "    </tr>\n",
       "    <tr>\n",
       "      <th>1</th>\n",
       "      <td>1</td>\n",
       "      <td>27618</td>\n",
       "    </tr>\n",
       "  </tbody>\n",
       "</table>\n",
       "</div>"
      ],
      "text/plain": [
       "   active  cardio\n",
       "0       0    7361\n",
       "1       1   27618"
      ]
     },
     "execution_count": 60,
     "metadata": {},
     "output_type": "execute_result"
    }
   ],
   "source": [
    "aux = df4[['active', 'cardio']].groupby('active').sum().reset_index() # por terem a doença, são talvez obrigados a fazerem atividade fisica.\n",
    "aux"
   ]
  },
  {
   "cell_type": "markdown",
   "id": "1fa040c1",
   "metadata": {
    "heading_collapsed": true
   },
   "source": [
    "#### Pessoas de até 30 anos não tem doenças cardiovasculares.\n"
   ]
  },
  {
   "cell_type": "code",
   "execution_count": 18,
   "id": "74dd02ab",
   "metadata": {
    "ExecuteTime": {
     "end_time": "2022-07-22T23:59:41.554117Z",
     "start_time": "2022-07-22T23:59:41.105643Z"
    },
    "hidden": true
   },
   "outputs": [
    {
     "data": {
      "image/png": "[encoded data removed]",
      "text/plain": [
       "<Figure size 1800x864 with 1 Axes>"
      ]
     },
     "metadata": {},
     "output_type": "display_data"
    }
   ],
   "source": [
    "aux = df4[df4['age'] >= 30]\n",
    "aux = aux[['age', 'cardio']].groupby('age').sum().reset_index()#.sort_values(by='cardio', ascending=True)\n",
    "sns.barplot(x='age', y='cardio', palette=\"deep\", data=aux);"
   ]
  },
  {
   "cell_type": "markdown",
   "id": "2715cdf0",
   "metadata": {},
   "source": [
    "#### Pessoas acima do peso tem mais doenças cardiovasculares."
   ]
  },
  {
   "cell_type": "code",
   "execution_count": 19,
   "id": "cd2a65a0",
   "metadata": {
    "ExecuteTime": {
     "end_time": "2022-07-22T23:59:42.642820Z",
     "start_time": "2022-07-22T23:59:41.556745Z"
    }
   },
   "outputs": [],
   "source": [
    "df4['imc'] = df4.apply(lambda x: x['weight'] / (x['height'] * x['height']), axis=1).astype(str)\n",
    "df4['imc'] = df4['imc'].apply(lambda x: x[4:6]).astype(int)\n",
    "\n",
    "df4['classificacao_imc'] = df4['imc'].apply(lambda x: 'abaixo_do_peso' if x <= 18 else\n",
    "         'peso_normal' if x >= 19 and x <= 25 else \n",
    "         'sobrepeso' if x >= 26 and x <= 30 else\n",
    "         'obesidade_grau_1 ' if x >= 31 and x <= 35 else\n",
    "         'obesidade_grau_2'  if x >= 32 and x <= 40 else\n",
    "         'obesidade_grau_3' if x >= 33 and x <= 40 else\n",
    "         'Obesidade_grau_4'\n",
    "         )"
   ]
  },
  {
   "cell_type": "code",
   "execution_count": 20,
   "id": "df6eaabd",
   "metadata": {
    "ExecuteTime": {
     "end_time": "2022-07-22T23:59:43.331622Z",
     "start_time": "2022-07-22T23:59:42.645027Z"
    }
   },
   "outputs": [
    {
     "data": {
      "image/png": "[encoded data removed]",
      "text/plain": [
       "<Figure size 1583.47x720 with 1 Axes>"
      ]
     },
     "metadata": {},
     "output_type": "display_data"
    }
   ],
   "source": [
    "aux = df4[['classificacao_imc', 'cardio']].groupby('classificacao_imc').sum().reset_index()\n",
    "\n",
    "sns.catplot(\n",
    "    data=aux, kind=\"bar\",\n",
    "    x=\"cardio\", y=\"classificacao_imc\", hue=\"classificacao_imc\",\n",
    "    height=10, aspect=2\n",
    ");"
   ]
  },
  {
   "cell_type": "markdown",
   "id": "9ad72c5f",
   "metadata": {},
   "source": [
    "# 5.0. DATA PREPARATION"
   ]
  },
  {
   "cell_type": "code",
   "execution_count": 21,
   "id": "965bcb6e",
   "metadata": {
    "ExecuteTime": {
     "end_time": "2022-07-22T23:59:43.339386Z",
     "start_time": "2022-07-22T23:59:43.335375Z"
    }
   },
   "outputs": [],
   "source": [
    "df5 = df4.copy()"
   ]
  },
  {
   "cell_type": "markdown",
   "id": "b2f0a362",
   "metadata": {},
   "source": [
    "## 5.1. Encoding"
   ]
  },
  {
   "cell_type": "code",
   "execution_count": 22,
   "id": "baeeac5d",
   "metadata": {
    "ExecuteTime": {
     "end_time": "2022-07-22T23:59:43.362964Z",
     "start_time": "2022-07-22T23:59:43.341801Z"
    }
   },
   "outputs": [],
   "source": [
    "df5 = pd.get_dummies(df5, prefix=['classificacao_imc'], columns=['classificacao_imc'])"
   ]
  },
  {
   "cell_type": "markdown",
   "id": "276c96fe",
   "metadata": {},
   "source": [
    "# 6.0. FEATURE SELECTION"
   ]
  },
  {
   "cell_type": "code",
   "execution_count": 23,
   "id": "ca0e3102",
   "metadata": {
    "ExecuteTime": {
     "end_time": "2022-07-22T23:59:43.369700Z",
     "start_time": "2022-07-22T23:59:43.365352Z"
    }
   },
   "outputs": [],
   "source": [
    "df6 = df5.copy()"
   ]
  },
  {
   "cell_type": "code",
   "execution_count": 24,
   "id": "f022cfe3",
   "metadata": {
    "ExecuteTime": {
     "end_time": "2022-07-22T23:59:43.380788Z",
     "start_time": "2022-07-22T23:59:43.373065Z"
    }
   },
   "outputs": [],
   "source": [
    "X = df6.drop('cardio', axis=1)\n",
    "y = df6['cardio'].copy()"
   ]
  },
  {
   "cell_type": "code",
   "execution_count": 25,
   "id": "29de1f25",
   "metadata": {
    "ExecuteTime": {
     "end_time": "2022-07-22T23:59:43.403169Z",
     "start_time": "2022-07-22T23:59:43.383784Z"
    }
   },
   "outputs": [],
   "source": [
    "x_train, x_test, y_train, y_test = train_test_split(X, y, test_size=0.2, random_state=32)"
   ]
  },
  {
   "cell_type": "markdown",
   "id": "c729cac2",
   "metadata": {},
   "source": [
    "# 7.0. MODEL"
   ]
  },
  {
   "cell_type": "code",
   "execution_count": 26,
   "id": "044cdc07",
   "metadata": {
    "ExecuteTime": {
     "end_time": "2022-07-23T00:00:06.377282Z",
     "start_time": "2022-07-23T00:00:06.338919Z"
    }
   },
   "outputs": [],
   "source": [
    "from sklearn    import metrics         as m\n",
    "from scikitplot import metrics         as mt"
   ]
  },
  {
   "cell_type": "markdown",
   "id": "9fedc39d",
   "metadata": {},
   "source": [
    "## 7.1.0 NearestCentroid"
   ]
  },
  {
   "cell_type": "code",
   "execution_count": 65,
   "id": "50942d4d",
   "metadata": {
    "ExecuteTime": {
     "end_time": "2022-07-23T00:00:07.749274Z",
     "start_time": "2022-07-23T00:00:07.729643Z"
    }
   },
   "outputs": [],
   "source": [
    "from sklearn.neighbors import NearestCentroid"
   ]
  },
  {
   "cell_type": "code",
   "execution_count": 66,
   "id": "1167130d",
   "metadata": {
    "ExecuteTime": {
     "end_time": "2022-07-23T00:00:08.619464Z",
     "start_time": "2022-07-23T00:00:08.280122Z"
    }
   },
   "outputs": [
    {
     "name": "stdout",
     "output_type": "stream",
     "text": [
      "              precision    recall  f1-score   support\n",
      "\n",
      "           0       0.49      0.49      0.49      7039\n",
      "           1       0.49      0.49      0.49      6961\n",
      "\n",
      "    accuracy                           0.49     14000\n",
      "   macro avg       0.49      0.49      0.49     14000\n",
      "weighted avg       0.49      0.49      0.49     14000\n",
      "\n"
     ]
    },
    {
     "data": {
      "image/png": "[encoded data removed]",
      "text/plain": [
       "<Figure size 864x864 with 2 Axes>"
      ]
     },
     "metadata": {},
     "output_type": "display_data"
    }
   ],
   "source": [
    "clf = NearestCentroid()\n",
    "clf.fit(x_train, y_train)\n",
    "predict = clf.predict(x_test)\n",
    "\n",
    "print(m.classification_report(y_test, predict))\n",
    "mt.plot_confusion_matrix(y_test, predict, normalize=True, figsize=(12,12));"
   ]
  },
  {
   "cell_type": "code",
   "execution_count": 67,
   "id": "f7abc45a",
   "metadata": {},
   "outputs": [
    {
     "name": "stdout",
     "output_type": "stream",
     "text": [
      "Best:  $-6,150,000.00\n",
      "worst:  $-6,150,000.00\n"
     ]
    }
   ],
   "source": [
    "price_per_percent = 500/5 \n",
    "baseline = 50\n",
    "num_pacients = 70000\n",
    "\n",
    "model_accuracy = m.accuracy_score(y_test, predict) \n",
    "\n",
    "accuracy = model_accuracy\n",
    "deviation = model_accuracy.std() * 2\n",
    "\n",
    "accuracy_lower = ( accuracy - deviation ) * 100\n",
    "accuracy_upper = ( accuracy + deviation ) * 100\n",
    "\n",
    "percent_difference_lower = accuracy_lower - baseline\n",
    "percent_difference_upper = accuracy_upper - baseline\n",
    "\n",
    "amount_best = percent_difference_upper * price_per_percent * num_pacients\n",
    "amount_worst = percent_difference_lower * price_per_percent * num_pacients\n",
    "\n",
    "print(f'Best:  ${round(amount_best, 2):,.2f}')\n",
    "print(f'worst:  ${round(amount_worst, 2):,.2f}')"
   ]
  },
  {
   "cell_type": "markdown",
   "id": "caf2c358",
   "metadata": {},
   "source": [
    "## 7.2.0 CatBoostClassifier"
   ]
  },
  {
   "cell_type": "code",
   "execution_count": 68,
   "id": "90f894dd",
   "metadata": {
    "ExecuteTime": {
     "end_time": "2022-07-23T00:02:02.362172Z",
     "start_time": "2022-07-23T00:02:02.329142Z"
    }
   },
   "outputs": [],
   "source": [
    "from catboost import CatBoostClassifier"
   ]
  },
  {
   "cell_type": "code",
   "execution_count": 69,
   "id": "7c502e83",
   "metadata": {
    "ExecuteTime": {
     "end_time": "2022-07-23T00:02:07.687776Z",
     "start_time": "2022-07-23T00:02:07.175805Z"
    }
   },
   "outputs": [
    {
     "name": "stdout",
     "output_type": "stream",
     "text": [
      "0:\tlearn: 0.6687723\ttotal: 6.73ms\tremaining: 26.9ms\n",
      "1:\tlearn: 0.6492530\ttotal: 11.7ms\tremaining: 17.5ms\n",
      "2:\tlearn: 0.6328143\ttotal: 16.9ms\tremaining: 11.3ms\n",
      "3:\tlearn: 0.6193413\ttotal: 21.7ms\tremaining: 5.43ms\n",
      "4:\tlearn: 0.6076817\ttotal: 30.2ms\tremaining: 0us\n",
      "              precision    recall  f1-score   support\n",
      "\n",
      "           0       0.71      0.80      0.75      7039\n",
      "           1       0.76      0.67      0.71      6961\n",
      "\n",
      "    accuracy                           0.73     14000\n",
      "   macro avg       0.73      0.73      0.73     14000\n",
      "weighted avg       0.73      0.73      0.73     14000\n",
      "\n"
     ]
    },
    {
     "data": {
      "image/png": "[encoded data removed]",
      "text/plain": [
       "<Figure size 864x864 with 2 Axes>"
      ]
     },
     "metadata": {},
     "output_type": "display_data"
    }
   ],
   "source": [
    "clf = CatBoostClassifier(\n",
    "    iterations=5, \n",
    "    learning_rate=0.1, \n",
    "    #loss_function='CrossEntropy'\n",
    ")\n",
    "\n",
    "clf.fit(x_train, y_train);\n",
    "predict = clf.predict(data=x_test)\n",
    "\n",
    "print(m.classification_report(y_test, predict))\n",
    "mt.plot_confusion_matrix(y_test, predict, normalize=False, figsize=(12,12));"
   ]
  },
  {
   "cell_type": "markdown",
   "id": "71bfe967",
   "metadata": {},
   "source": [
    "### 7.2.1 Convert model to business "
   ]
  },
  {
   "cell_type": "code",
   "execution_count": 70,
   "id": "c1c31e19",
   "metadata": {},
   "outputs": [
    {
     "name": "stdout",
     "output_type": "stream",
     "text": [
      "Best:  $161,650,000.00\n",
      "worst:  $161,650,000.00\n"
     ]
    }
   ],
   "source": [
    "price_per_percent = 500/5 \n",
    "baseline = 50\n",
    "num_pacients = 70000\n",
    "\n",
    "model_accuracy = m.accuracy_score(y_test, predict) \n",
    "\n",
    "accuracy = model_accuracy\n",
    "deviation = model_accuracy.std() * 2\n",
    "\n",
    "accuracy_lower = ( accuracy - deviation ) * 100\n",
    "accuracy_upper = ( accuracy + deviation ) * 100\n",
    "\n",
    "percent_difference_lower = accuracy_lower - baseline\n",
    "percent_difference_upper = accuracy_upper - baseline\n",
    "\n",
    "amount_best = percent_difference_upper * price_per_percent * num_pacients\n",
    "amount_worst = percent_difference_lower * price_per_percent * num_pacients\n",
    "\n",
    "print(f'Best:  ${round(amount_best, 2):,.2f}')\n",
    "print(f'worst:  ${round(amount_worst, 2):,.2f}')"
   ]
  }
 ],
 "metadata": {
  "kernelspec": {
   "display_name": "Python 3 (ipykernel)",
   "language": "python",
   "name": "python3"
  },
  "language_info": {
   "codemirror_mode": {
    "name": "ipython",
    "version": 3
   },
   "file_extension": ".py",
   "mimetype": "text/x-python",
   "name": "python",
   "nbconvert_exporter": "python",
   "pygments_lexer": "ipython3",
   "version": "3.8.10"
  },
  "nbTranslate": {
   "displayLangs": [
    "*"
   ],
   "hotkey": "alt-t",
   "langInMainMenu": true,
   "sourceLang": "en",
   "targetLang": "fr",
   "useGoogleTranslate": true
  },
  "toc": {
   "base_numbering": 1,
   "nav_menu": {},
   "number_sections": true,
   "sideBar": true,
   "skip_h1_title": false,
   "title_cell": "Table of Contents",
   "title_sidebar": "Contents",
   "toc_cell": false,
   "toc_position": {},
   "toc_section_display": true,
   "toc_window_display": false
  },
  "vscode": {
   "interpreter": {
    "hash": "e7370f93d1d0cde622a1f8e1c04877d8463912d04d973331ad4851f04de6915a"
   }
  }
 },
 "nbformat": 4,
 "nbformat_minor": 5
}
